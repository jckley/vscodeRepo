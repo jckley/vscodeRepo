{
 "cells": [
  {
   "cell_type": "code",
   "execution_count": 2,
   "source": [
    "n= 20\n",
    "\n",
    "for x in range (1,n):\n",
    "    if n%x == 0:\n",
    "        print (x)\n",
    "        "
   ],
   "outputs": [
    {
     "output_type": "stream",
     "name": "stdout",
     "text": [
      "1\n",
      "2\n",
      "4\n",
      "5\n",
      "10\n"
     ]
    }
   ],
   "metadata": {}
  },
  {
   "cell_type": "code",
   "execution_count": 11,
   "source": [
    "# add indices lo a list\n",
    "data = ['alpha', 'beta','gamma']\n",
    "datawithindices = list(enumerate(data))\n",
    "print('LIST =', datawithindices)\n",
    "print(type(datawithindices))"
   ],
   "outputs": [
    {
     "output_type": "stream",
     "name": "stdout",
     "text": [
      "LIST = [(0, 'alpha'), (1, 'beta'), (2, 'gamma')]\n",
      "<class 'list'>\n"
     ]
    }
   ],
   "metadata": {}
  },
  {
   "cell_type": "code",
   "execution_count": 4,
   "source": [
    "print('hello'+'world')\n",
    "print('hello','world')"
   ],
   "outputs": [
    {
     "output_type": "stream",
     "name": "stdout",
     "text": [
      "helloworld\n",
      "hello world\n"
     ]
    }
   ],
   "metadata": {}
  },
  {
   "cell_type": "code",
   "execution_count": 5,
   "source": [
    "data1 = [3,5,7,9,11]\n",
    "data2 = [3,6,8,10,12,11]\n",
    "data = data1\n",
    "data.extend([x for x in data2 if x not in data1])\n",
    "print('merged both lists deduped data = ',data)"
   ],
   "outputs": [
    {
     "output_type": "stream",
     "name": "stdout",
     "text": [
      "merged both lists deduped data =  [3, 5, 7, 9, 11, 6, 8, 10, 12]\n"
     ]
    }
   ],
   "metadata": {}
  },
  {
   "cell_type": "code",
   "execution_count": 6,
   "source": [
    "data = \"10,20,30\"\n",
    "print (data)\n",
    "\n",
    "string = data.split(',')\n",
    "print(string)\n",
    "\n",
    "numbers = list( map(int, string))\n",
    "print (numbers)"
   ],
   "outputs": [
    {
     "output_type": "stream",
     "name": "stdout",
     "text": [
      "10,20,30\n",
      "['10', '20', '30']\n",
      "[10, 20, 30]\n"
     ]
    }
   ],
   "metadata": {}
  },
  {
   "cell_type": "code",
   "execution_count": 7,
   "source": [
    "for j  in [3,6,9]:\n",
    "    for i in range(1,10,2):\n",
    "         print (('u'*i).center(j*10))"
   ],
   "outputs": [
    {
     "output_type": "stream",
     "name": "stdout",
     "text": [
      "              u               \n",
      "             uuu              \n",
      "            uuuuu             \n",
      "           uuuuuuu            \n",
      "          uuuuuuuuu           \n",
      "                             u                              \n",
      "                            uuu                             \n",
      "                           uuuuu                            \n",
      "                          uuuuuuu                           \n",
      "                         uuuuuuuuu                          \n",
      "                                            u                                             \n",
      "                                           uuu                                            \n",
      "                                          uuuuu                                           \n",
      "                                         uuuuuuu                                          \n",
      "                                        uuuuuuuuu                                         \n"
     ]
    }
   ],
   "metadata": {}
  },
  {
   "cell_type": "code",
   "execution_count": 8,
   "source": [
    "data = [2,4,6,8]\n",
    "reversedData1 = list(reversed(data))\n",
    "print(reversedData1)"
   ],
   "outputs": [
    {
     "output_type": "stream",
     "name": "stdout",
     "text": [
      "[8, 6, 4, 2]\n"
     ]
    }
   ],
   "metadata": {}
  },
  {
   "cell_type": "code",
   "execution_count": null,
   "source": [
    "x, y, z = \"Orange\", \"Banana\", \"Cherry\"\n",
    "print(x)\n",
    "print(y)\n",
    "print(z)\n",
    "x = y = \"peras\"\n",
    "print(x)\n",
    "print(y)"
   ],
   "outputs": [
    {
     "output_type": "stream",
     "name": "stdout",
     "text": [
      "Orange\n",
      "Banana\n",
      "Cherry\n",
      "peras\n",
      "peras\n"
     ]
    }
   ],
   "metadata": {}
  },
  {
   "cell_type": "code",
   "execution_count": null,
   "source": [
    "data = [\"this\",\"is\",\"my\",\"data\"]\n",
    "string1 = \" \".join(data)\n",
    "print(string1)\n",
    "\n",
    "string2 = \"-\".join(data)\n",
    "print(string2)"
   ],
   "outputs": [],
   "metadata": {}
  },
  {
   "cell_type": "code",
   "execution_count": null,
   "source": [
    "myDict = {\"name\": \"John\", \"country\": \"Norway\"}\n",
    "mySeparator = \"TEST\"\n",
    "\n",
    "x = mySeparator.join(myDict)\n",
    "\n",
    "print(x)"
   ],
   "outputs": [
    {
     "output_type": "stream",
     "name": "stdout",
     "text": [
      "nameTESTcountry\n"
     ]
    }
   ],
   "metadata": {}
  },
  {
   "cell_type": "code",
   "execution_count": null,
   "source": [
    "list1 = [1,2,3]\n",
    "tuple1 = (1,2,3)\n",
    "dict1 = {\"name\":\"john\", \"age\":24, \"gender\":'male', \"isalive\" : True}\n",
    "#true debe ir con mayuscula\n",
    "print (list1)\n",
    "print (tuple1)\n",
    "print (dict1)\n",
    "\n",
    "list1[1] = 5\n",
    "print (list1)\n",
    "\n",
    "dict1[\"name\"] = \"Gary\"\n",
    "print (dict1)\n",
    "\n",
    "tuple1[1] = 5\n",
    "print (tuple1)"
   ],
   "outputs": [],
   "metadata": {}
  },
  {
   "cell_type": "code",
   "execution_count": null,
   "source": [
    "# kwargs.  If you do not know how many keyword arguments that will be passed \n",
    "# into your function, add two asterisk: ** before the parameter name in the \n",
    "# function definition.\n",
    "\n",
    "#This way the function will receive a dictionary of arguments, and can\n",
    "#access the items accordingly:\n",
    "\n",
    "def my_function(**kid):\n",
    "  print (\"His last name is \" + kid[\"lname\"])\n",
    "\n",
    "my_function(fname = \"Tobias\", lname = \"Refsnes\", mname = \"'Pepe'\")"
   ],
   "outputs": [
    {
     "output_type": "stream",
     "name": "stdout",
     "text": [
      "His last name is Refsnes\n"
     ]
    }
   ],
   "metadata": {}
  },
  {
   "cell_type": "code",
   "execution_count": null,
   "source": [
    "def my_function(**kid):\n",
    "  print (\"His nickname is \" + kid[\"nickname\"] + \"and his Last Name is \" + kid[\"lname\"])\n",
    "\n",
    "my_function(fname = \"Tobias\", lname = \"Refsnes\", nickname = \"'Pepe'\")"
   ],
   "outputs": [],
   "metadata": {}
  },
  {
   "cell_type": "code",
   "execution_count": null,
   "source": [
    "x =[9,8,2]\n",
    "y = x.remove(2) # remove() solo altera x, pero no devuelve ningun valor\n",
    "z = print(1, end = \" \") # print no devuelve valor pero imprime el primer 1 y no agrega el line feed\n",
    "#z = print(1)\n",
    "if y or z :\n",
    "    print(1)\n",
    "else:\n",
    "    print(2)\n",
    "print (\"z=\", z)\n",
    "print (\"y=\", y)\n",
    "print (\"x=\", x)\n",
    "z = print(1, end = \" \") # end=\"\" saca el line feed\n",
    "z = print(1)\n",
    "z = print(1, end = \"y \")\n",
    "z = print(1)"
   ],
   "outputs": [
    {
     "output_type": "stream",
     "name": "stdout",
     "text": [
      "1 2\n",
      "z= None\n",
      "y= None\n",
      "x= [9, 8]\n",
      "1 1\n",
      "1y 1\n"
     ]
    }
   ],
   "metadata": {}
  },
  {
   "cell_type": "code",
   "execution_count": null,
   "source": [
    "x = True*False +3\n",
    "y = False*False + 9**2\n",
    "print(x+y)"
   ],
   "outputs": [],
   "metadata": {}
  },
  {
   "cell_type": "code",
   "execution_count": null,
   "source": [],
   "outputs": [],
   "metadata": {}
  }
 ],
 "metadata": {
  "kernelspec": {
   "name": "python3",
   "display_name": "Python 3.8.8 64-bit ('base': conda)"
  },
  "language_info": {
   "codemirror_mode": {
    "name": "ipython",
    "version": 3
   },
   "file_extension": ".py",
   "mimetype": "text/x-python",
   "name": "python",
   "nbconvert_exporter": "python",
   "pygments_lexer": "ipython3",
   "version": "3.8.8"
  },
  "interpreter": {
   "hash": "3e7c780bff19cc3fd5c3119bf3f220bb922b44893be8879cab4599e3cdf0930b"
  }
 },
 "nbformat": 4,
 "nbformat_minor": 2
}